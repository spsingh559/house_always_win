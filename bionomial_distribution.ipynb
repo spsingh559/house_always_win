{
 "cells": [
  {
   "cell_type": "markdown",
   "metadata": {},
   "source": [
    "# Probability is fun"
   ]
  },
  {
   "cell_type": "markdown",
   "metadata": {},
   "source": [
    "## Introduction\n",
    "\n",
    "Your Office has organise a game where each participant has to withdraw a ball in a sack. There is total 5 balls, 3 red and 2 blue. Each participant has to withdraw one ball, note down the colour and put it back. Repeat the same experiment 4 times.\n",
    "\n",
    "The fun part is, if Participant get 4 red balls, he/she will get 150 Rs as reward and if he/she get any other combination, loose the game and pay 10 Rs fine.\n",
    "\n",
    "Now question is, If this game is played with n number of players, who do you think make money? Players or Office Event Organiser(House)?\n",
    "\n",
    "This notebook will help you analyse how to make sure that Event Organiser(House) always win the game and make money.\n"
   ]
  },
  {
   "cell_type": "markdown",
   "metadata": {},
   "source": [
    "### Set up"
   ]
  },
  {
   "cell_type": "code",
   "execution_count": 61,
   "metadata": {},
   "outputs": [],
   "source": [
    "#import libraries\n",
    "from scipy.stats import binom \n",
    "import matplotlib.pyplot as plt\n",
    "n=4 #number of trail\n",
    "amount_to_win=150 #Reward amount to Pay to Player who get all 4 red balls\n",
    "#67.2 to no loss no benefit\n",
    "amount_to_loose=-10 # Fine Amount paid by Player in case if they don't get 4 red balls\n",
    "totoal_balls=5 # Total number of balls in bag\n",
    "red_ball=3 # total number of red balls in bag\n",
    "blue_ball=2 # total number of blue balls in bag"
   ]
  },
  {
   "cell_type": "markdown",
   "metadata": {},
   "source": [
    "### Probability Distribution"
   ]
  },
  {
   "cell_type": "code",
   "execution_count": 62,
   "metadata": {},
   "outputs": [],
   "source": [
    "def prob_calculator(sample,totalSample):\n",
    "    \"\"\" Calculate Probability of event\n",
    "    \n",
    "    Args:\n",
    "    sample(int) : integer sample value\n",
    "    totalSample(int): integer total Sample Count\n",
    "    \n",
    "    Returns:\n",
    "    float probability value of event to be happen\n",
    "    \"\"\"\n",
    "    return sample/totalSample"
   ]
  },
  {
   "cell_type": "code",
   "execution_count": 63,
   "metadata": {
    "scrolled": false
   },
   "outputs": [
    {
     "name": "stdout",
     "output_type": "stream",
     "text": [
      "probability is 0.6\n"
     ]
    }
   ],
   "source": [
    "#calculate prob of red balls\n",
    "prob_red_ball=prob_calculator(red_ball,totoal_balls)\n",
    "print(\"probability is \"+ str(prob_red_ball))"
   ]
  },
  {
   "cell_type": "code",
   "execution_count": 64,
   "metadata": {},
   "outputs": [
    {
     "name": "stdout",
     "output_type": "stream",
     "text": [
      "r\tp(r)\n",
      "0\t0.0256\n",
      "1\t0.1536\n",
      "2\t0.3456\n",
      "3\t0.3456\n",
      "4\t0.1296\n"
     ]
    }
   ],
   "source": [
    "n=n # Total number of Trial\n",
    "p = prob_red_ball #Prob of Event in this case probability of red balls\n",
    "# defining the list of r values, number of red balls in each experiment \n",
    "r_values = list(range(n + 1)) \n",
    "\n",
    "#scipy.stats.binom.pmf() function is used to obtain the probability mass function for a certain value of r, n and p. \n",
    "#Bionomial distribution of getting P(r) in n trials\n",
    "dist = [binom.pmf(r, n, p).round(5) for r in r_values ] \n",
    "\n",
    "# printing the table \n",
    "print(\"r\\tp(r)\") \n",
    "for i in range(n + 1): \n",
    "    print(str(r_values[i]) + \"\\t\" + str(dist[i])) \n"
   ]
  },
  {
   "cell_type": "code",
   "execution_count": 65,
   "metadata": {},
   "outputs": [
    {
     "data": {
      "image/png": "[encoded data removed]",
      "text/plain": [
       "<Figure size 432x288 with 1 Axes>"
      ]
     },
     "metadata": {
      "needs_background": "light"
     },
     "output_type": "display_data"
    }
   ],
   "source": [
    "#plotting the bar\n",
    "plt.bar(r_values, dist) \n",
    "plt.ylabel('probability')\n",
    "plt.xlabel('r values (number)')\n",
    "plt.title('Probability Distribution of Red Balls')\n",
    "plt.show()"
   ]
  },
  {
   "cell_type": "code",
   "execution_count": 66,
   "metadata": {},
   "outputs": [
    {
     "name": "stdout",
     "output_type": "stream",
     "text": [
      "probability of getting 3 or less than 3 red balls :0.8704\n"
     ]
    }
   ],
   "source": [
    "\"\"\"\n",
    "Cumulative probabiility\n",
    "    P(r<=3):\n",
    "    all the probabilities value where number of balls were 3 or less than 3\n",
    "    P(r<=3=P(r=0)+P(r=1)+P(r=2)+P(r=3)\n",
    "\"\"\"\n",
    "\n",
    "prob_of_3_or_less_than_3_red_balls=sum(dist[:4]).round(5)\n",
    "print('probability of getting 3 or less than 3 red balls :'+str(prob_of_3_or_less_than_3_red_balls))"
   ]
  },
  {
   "cell_type": "code",
   "execution_count": 67,
   "metadata": {},
   "outputs": [
    {
     "name": "stdout",
     "output_type": "stream",
     "text": [
      "probability of getting 4 red balls :0.1296\n"
     ]
    }
   ],
   "source": [
    "\"\"\"\n",
    "Cumulative probabiility\n",
    "    P(r=4):\n",
    "    all the probabilities value where number of red balls were 4\n",
    "    P(r=4)=P(r=4) i.e 0.1296\n",
    "\"\"\"\n",
    "prob_of_4_red_balls=dist[len(dist)-1]\n",
    "print('probability of getting 4 red balls :'+str(prob_of_4_red_balls))"
   ]
  },
  {
   "cell_type": "markdown",
   "metadata": {},
   "source": [
    "### Expected Value Calculation"
   ]
  },
  {
   "cell_type": "code",
   "execution_count": 68,
   "metadata": {},
   "outputs": [],
   "source": [
    "\"\"\"\n",
    "Expected value (EV):\n",
    "\n",
    "    The expected value should be interpreted as the average value you get after the experiment has been conducted \n",
    "    an infinite number of times.    \n",
    "      \n",
    "    Expected Value of Money won by one Game\n",
    "    P(X=150)=>P(4 red balls)=>P(r=4)\n",
    "    P(X=-10)=>P(0,1,2,3 red balls)=>p(r<=3)\n",
    "    EV(X)=x1*P(X=x1)+x2*P(X=x2)+...\n",
    "\n",
    "    EV=amount_to_loose*P(r<=3)+amount_to_win*P(r=4)\n",
    "    \n",
    "    Expected value of money won by player in one game\n",
    "    \n",
    "    (+EV)- On on average money won by Player\n",
    "    (-EV) - On an average money won by House (Event Organiser)\n",
    "\"\"\"\n",
    "def calculate_EV(amount_to_loose,amount_to_win): \n",
    "    return (amount_to_loose*prob_of_3_or_less_than_3_red_balls+amount_to_win*prob_of_4_red_balls).round()\n"
   ]
  },
  {
   "cell_type": "code",
   "execution_count": 69,
   "metadata": {},
   "outputs": [],
   "source": [
    "def win_or_loose(EV):\n",
    "    if EV>0:\n",
    "        print('On an average '+ str(EV)+' Rs is won by Player\\n')\n",
    "        print('In the Long run house will loose the game')\n",
    "    elif EV<0:\n",
    "        print('On an average '+ str(abs(EV))+' Rs is won by Event Organiser i.e House\\n')\n",
    "        print('In the Long run house will win the game')\n",
    "    else:\n",
    "        print('Game is tie, no body will loose or win the game')"
   ]
  },
  {
   "cell_type": "code",
   "execution_count": 70,
   "metadata": {},
   "outputs": [
    {
     "name": "stdout",
     "output_type": "stream",
     "text": [
      "On an average 11.0 Rs is won by Player\n",
      "\n",
      "In the Long run house will loose the game\n"
     ]
    }
   ],
   "source": [
    "EV=calculate_EV(amount_to_loose,amount_to_win) # Calculate EV\n",
    "win_or_loose(EV) # Find who win the game"
   ]
  },
  {
   "cell_type": "code",
   "execution_count": 74,
   "metadata": {},
   "outputs": [
    {
     "name": "stdout",
     "output_type": "stream",
     "text": [
      "On an average 2.0 Rs is won by Event Organiser i.e House\n",
      "\n",
      "In the Long run house will win the game\n"
     ]
    }
   ],
   "source": [
    "# Now adjust, the reward amount so that, house win the game and make money\n",
    "amount_to_win=50\n",
    "EV=calculate_EV(amount_to_loose,amount_to_win)\n",
    "win_or_loose(EV)"
   ]
  },
  {
   "cell_type": "code",
   "execution_count": null,
   "metadata": {},
   "outputs": [],
   "source": []
  },
  {
   "cell_type": "code",
   "execution_count": null,
   "metadata": {},
   "outputs": [],
   "source": []
  },
  {
   "cell_type": "code",
   "execution_count": null,
   "metadata": {},
   "outputs": [],
   "source": []
  }
 ],
 "metadata": {
  "kernelspec": {
   "display_name": "Python 3",
   "language": "python",
   "name": "python3"
  },
  "language_info": {
   "codemirror_mode": {
    "name": "ipython",
    "version": 3
   },
   "file_extension": ".py",
   "mimetype": "text/x-python",
   "name": "python",
   "nbconvert_exporter": "python",
   "pygments_lexer": "ipython3",
   "version": "3.8.3"
  }
 },
 "nbformat": 4,
 "nbformat_minor": 4
}
